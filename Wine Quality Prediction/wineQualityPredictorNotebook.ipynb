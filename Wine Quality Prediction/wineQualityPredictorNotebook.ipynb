{
 "cells": [
  {
   "cell_type": "markdown",
   "id": "ba082eb8",
   "metadata": {},
   "source": [
    "# Wine Quality Prediction"
   ]
  },
  {
   "cell_type": "markdown",
   "id": "bc8b1a0c",
   "metadata": {},
   "source": [
    "### Machine learning model to predict the quality of Wine using linear regression.\n",
    "The dataset employed in this analysis originates from a Kaggle competition, and you can access it through the following [link](https://www.kaggle.com/datasets/yasserh/wine-quality-dataset?resource=download)."
   ]
  },
  {
   "cell_type": "code",
   "execution_count": 24,
   "id": "4a988813",
   "metadata": {},
   "outputs": [
    {
     "data": {
      "text/html": [
       "<div>\n",
       "<style scoped>\n",
       "    .dataframe tbody tr th:only-of-type {\n",
       "        vertical-align: middle;\n",
       "    }\n",
       "\n",
       "    .dataframe tbody tr th {\n",
       "        vertical-align: top;\n",
       "    }\n",
       "\n",
       "    .dataframe thead th {\n",
       "        text-align: right;\n",
       "    }\n",
       "</style>\n",
       "<table border=\"1\" class=\"dataframe\">\n",
       "  <thead>\n",
       "    <tr style=\"text-align: right;\">\n",
       "      <th></th>\n",
       "      <th>fixed acidity</th>\n",
       "      <th>volatile acidity</th>\n",
       "      <th>citric acid</th>\n",
       "      <th>residual sugar</th>\n",
       "      <th>chlorides</th>\n",
       "      <th>free sulfur dioxide</th>\n",
       "      <th>total sulfur dioxide</th>\n",
       "      <th>density</th>\n",
       "      <th>pH</th>\n",
       "      <th>sulphates</th>\n",
       "      <th>alcohol</th>\n",
       "      <th>quality</th>\n",
       "      <th>Id</th>\n",
       "    </tr>\n",
       "  </thead>\n",
       "  <tbody>\n",
       "    <tr>\n",
       "      <th>0</th>\n",
       "      <td>7.4</td>\n",
       "      <td>0.700</td>\n",
       "      <td>0.00</td>\n",
       "      <td>1.9</td>\n",
       "      <td>0.076</td>\n",
       "      <td>11.0</td>\n",
       "      <td>34.0</td>\n",
       "      <td>0.99780</td>\n",
       "      <td>3.51</td>\n",
       "      <td>0.56</td>\n",
       "      <td>9.4</td>\n",
       "      <td>5</td>\n",
       "      <td>0</td>\n",
       "    </tr>\n",
       "    <tr>\n",
       "      <th>1</th>\n",
       "      <td>7.8</td>\n",
       "      <td>0.880</td>\n",
       "      <td>0.00</td>\n",
       "      <td>2.6</td>\n",
       "      <td>0.098</td>\n",
       "      <td>25.0</td>\n",
       "      <td>67.0</td>\n",
       "      <td>0.99680</td>\n",
       "      <td>3.20</td>\n",
       "      <td>0.68</td>\n",
       "      <td>9.8</td>\n",
       "      <td>5</td>\n",
       "      <td>1</td>\n",
       "    </tr>\n",
       "    <tr>\n",
       "      <th>2</th>\n",
       "      <td>7.8</td>\n",
       "      <td>0.760</td>\n",
       "      <td>0.04</td>\n",
       "      <td>2.3</td>\n",
       "      <td>0.092</td>\n",
       "      <td>15.0</td>\n",
       "      <td>54.0</td>\n",
       "      <td>0.99700</td>\n",
       "      <td>3.26</td>\n",
       "      <td>0.65</td>\n",
       "      <td>9.8</td>\n",
       "      <td>5</td>\n",
       "      <td>2</td>\n",
       "    </tr>\n",
       "    <tr>\n",
       "      <th>3</th>\n",
       "      <td>11.2</td>\n",
       "      <td>0.280</td>\n",
       "      <td>0.56</td>\n",
       "      <td>1.9</td>\n",
       "      <td>0.075</td>\n",
       "      <td>17.0</td>\n",
       "      <td>60.0</td>\n",
       "      <td>0.99800</td>\n",
       "      <td>3.16</td>\n",
       "      <td>0.58</td>\n",
       "      <td>9.8</td>\n",
       "      <td>6</td>\n",
       "      <td>3</td>\n",
       "    </tr>\n",
       "    <tr>\n",
       "      <th>4</th>\n",
       "      <td>7.4</td>\n",
       "      <td>0.700</td>\n",
       "      <td>0.00</td>\n",
       "      <td>1.9</td>\n",
       "      <td>0.076</td>\n",
       "      <td>11.0</td>\n",
       "      <td>34.0</td>\n",
       "      <td>0.99780</td>\n",
       "      <td>3.51</td>\n",
       "      <td>0.56</td>\n",
       "      <td>9.4</td>\n",
       "      <td>5</td>\n",
       "      <td>4</td>\n",
       "    </tr>\n",
       "    <tr>\n",
       "      <th>...</th>\n",
       "      <td>...</td>\n",
       "      <td>...</td>\n",
       "      <td>...</td>\n",
       "      <td>...</td>\n",
       "      <td>...</td>\n",
       "      <td>...</td>\n",
       "      <td>...</td>\n",
       "      <td>...</td>\n",
       "      <td>...</td>\n",
       "      <td>...</td>\n",
       "      <td>...</td>\n",
       "      <td>...</td>\n",
       "      <td>...</td>\n",
       "    </tr>\n",
       "    <tr>\n",
       "      <th>1138</th>\n",
       "      <td>6.3</td>\n",
       "      <td>0.510</td>\n",
       "      <td>0.13</td>\n",
       "      <td>2.3</td>\n",
       "      <td>0.076</td>\n",
       "      <td>29.0</td>\n",
       "      <td>40.0</td>\n",
       "      <td>0.99574</td>\n",
       "      <td>3.42</td>\n",
       "      <td>0.75</td>\n",
       "      <td>11.0</td>\n",
       "      <td>6</td>\n",
       "      <td>1592</td>\n",
       "    </tr>\n",
       "    <tr>\n",
       "      <th>1139</th>\n",
       "      <td>6.8</td>\n",
       "      <td>0.620</td>\n",
       "      <td>0.08</td>\n",
       "      <td>1.9</td>\n",
       "      <td>0.068</td>\n",
       "      <td>28.0</td>\n",
       "      <td>38.0</td>\n",
       "      <td>0.99651</td>\n",
       "      <td>3.42</td>\n",
       "      <td>0.82</td>\n",
       "      <td>9.5</td>\n",
       "      <td>6</td>\n",
       "      <td>1593</td>\n",
       "    </tr>\n",
       "    <tr>\n",
       "      <th>1140</th>\n",
       "      <td>6.2</td>\n",
       "      <td>0.600</td>\n",
       "      <td>0.08</td>\n",
       "      <td>2.0</td>\n",
       "      <td>0.090</td>\n",
       "      <td>32.0</td>\n",
       "      <td>44.0</td>\n",
       "      <td>0.99490</td>\n",
       "      <td>3.45</td>\n",
       "      <td>0.58</td>\n",
       "      <td>10.5</td>\n",
       "      <td>5</td>\n",
       "      <td>1594</td>\n",
       "    </tr>\n",
       "    <tr>\n",
       "      <th>1141</th>\n",
       "      <td>5.9</td>\n",
       "      <td>0.550</td>\n",
       "      <td>0.10</td>\n",
       "      <td>2.2</td>\n",
       "      <td>0.062</td>\n",
       "      <td>39.0</td>\n",
       "      <td>51.0</td>\n",
       "      <td>0.99512</td>\n",
       "      <td>3.52</td>\n",
       "      <td>0.76</td>\n",
       "      <td>11.2</td>\n",
       "      <td>6</td>\n",
       "      <td>1595</td>\n",
       "    </tr>\n",
       "    <tr>\n",
       "      <th>1142</th>\n",
       "      <td>5.9</td>\n",
       "      <td>0.645</td>\n",
       "      <td>0.12</td>\n",
       "      <td>2.0</td>\n",
       "      <td>0.075</td>\n",
       "      <td>32.0</td>\n",
       "      <td>44.0</td>\n",
       "      <td>0.99547</td>\n",
       "      <td>3.57</td>\n",
       "      <td>0.71</td>\n",
       "      <td>10.2</td>\n",
       "      <td>5</td>\n",
       "      <td>1597</td>\n",
       "    </tr>\n",
       "  </tbody>\n",
       "</table>\n",
       "<p>1143 rows × 13 columns</p>\n",
       "</div>"
      ],
      "text/plain": [
       "      fixed acidity  volatile acidity  citric acid  residual sugar  chlorides  \\\n",
       "0               7.4             0.700         0.00             1.9      0.076   \n",
       "1               7.8             0.880         0.00             2.6      0.098   \n",
       "2               7.8             0.760         0.04             2.3      0.092   \n",
       "3              11.2             0.280         0.56             1.9      0.075   \n",
       "4               7.4             0.700         0.00             1.9      0.076   \n",
       "...             ...               ...          ...             ...        ...   \n",
       "1138            6.3             0.510         0.13             2.3      0.076   \n",
       "1139            6.8             0.620         0.08             1.9      0.068   \n",
       "1140            6.2             0.600         0.08             2.0      0.090   \n",
       "1141            5.9             0.550         0.10             2.2      0.062   \n",
       "1142            5.9             0.645         0.12             2.0      0.075   \n",
       "\n",
       "      free sulfur dioxide  total sulfur dioxide  density    pH  sulphates  \\\n",
       "0                    11.0                  34.0  0.99780  3.51       0.56   \n",
       "1                    25.0                  67.0  0.99680  3.20       0.68   \n",
       "2                    15.0                  54.0  0.99700  3.26       0.65   \n",
       "3                    17.0                  60.0  0.99800  3.16       0.58   \n",
       "4                    11.0                  34.0  0.99780  3.51       0.56   \n",
       "...                   ...                   ...      ...   ...        ...   \n",
       "1138                 29.0                  40.0  0.99574  3.42       0.75   \n",
       "1139                 28.0                  38.0  0.99651  3.42       0.82   \n",
       "1140                 32.0                  44.0  0.99490  3.45       0.58   \n",
       "1141                 39.0                  51.0  0.99512  3.52       0.76   \n",
       "1142                 32.0                  44.0  0.99547  3.57       0.71   \n",
       "\n",
       "      alcohol  quality    Id  \n",
       "0         9.4        5     0  \n",
       "1         9.8        5     1  \n",
       "2         9.8        5     2  \n",
       "3         9.8        6     3  \n",
       "4         9.4        5     4  \n",
       "...       ...      ...   ...  \n",
       "1138     11.0        6  1592  \n",
       "1139      9.5        6  1593  \n",
       "1140     10.5        5  1594  \n",
       "1141     11.2        6  1595  \n",
       "1142     10.2        5  1597  \n",
       "\n",
       "[1143 rows x 13 columns]"
      ]
     },
     "execution_count": 24,
     "metadata": {},
     "output_type": "execute_result"
    }
   ],
   "source": [
    "# Load the dataset\n",
    "import pandas as pd\n",
    "data = pd.read_csv(\"Dataset/WineQT.csv\")\n",
    "data"
   ]
  },
  {
   "cell_type": "markdown",
   "id": "00a7f983",
   "metadata": {},
   "source": [
    "### Data Preprocessing"
   ]
  },
  {
   "cell_type": "code",
   "execution_count": 25,
   "id": "53d6389c",
   "metadata": {},
   "outputs": [
    {
     "data": {
      "text/plain": [
       "fixed acidity           0\n",
       "volatile acidity        0\n",
       "citric acid             0\n",
       "residual sugar          0\n",
       "chlorides               0\n",
       "free sulfur dioxide     0\n",
       "total sulfur dioxide    0\n",
       "density                 0\n",
       "pH                      0\n",
       "sulphates               0\n",
       "alcohol                 0\n",
       "quality                 0\n",
       "Id                      0\n",
       "dtype: int64"
      ]
     },
     "metadata": {},
     "output_type": "display_data"
    }
   ],
   "source": [
    "# missing value in the Dataset\n",
    "display(data.isna().sum())"
   ]
  },
  {
   "cell_type": "code",
   "execution_count": 26,
   "id": "f938e228",
   "metadata": {},
   "outputs": [
    {
     "data": {
      "text/html": [
       "<div>\n",
       "<style scoped>\n",
       "    .dataframe tbody tr th:only-of-type {\n",
       "        vertical-align: middle;\n",
       "    }\n",
       "\n",
       "    .dataframe tbody tr th {\n",
       "        vertical-align: top;\n",
       "    }\n",
       "\n",
       "    .dataframe thead th {\n",
       "        text-align: right;\n",
       "    }\n",
       "</style>\n",
       "<table border=\"1\" class=\"dataframe\">\n",
       "  <thead>\n",
       "    <tr style=\"text-align: right;\">\n",
       "      <th></th>\n",
       "      <th>volatile acidity</th>\n",
       "      <th>residual sugar</th>\n",
       "      <th>chlorides</th>\n",
       "      <th>free sulfur dioxide</th>\n",
       "      <th>total sulfur dioxide</th>\n",
       "      <th>pH</th>\n",
       "      <th>sulphates</th>\n",
       "      <th>alcohol</th>\n",
       "      <th>quality</th>\n",
       "      <th>Id</th>\n",
       "    </tr>\n",
       "  </thead>\n",
       "  <tbody>\n",
       "    <tr>\n",
       "      <th>0</th>\n",
       "      <td>0.700</td>\n",
       "      <td>1.9</td>\n",
       "      <td>0.076</td>\n",
       "      <td>11.0</td>\n",
       "      <td>34.0</td>\n",
       "      <td>3.51</td>\n",
       "      <td>0.56</td>\n",
       "      <td>9.4</td>\n",
       "      <td>5</td>\n",
       "      <td>0</td>\n",
       "    </tr>\n",
       "    <tr>\n",
       "      <th>1</th>\n",
       "      <td>0.880</td>\n",
       "      <td>2.6</td>\n",
       "      <td>0.098</td>\n",
       "      <td>25.0</td>\n",
       "      <td>67.0</td>\n",
       "      <td>3.20</td>\n",
       "      <td>0.68</td>\n",
       "      <td>9.8</td>\n",
       "      <td>5</td>\n",
       "      <td>1</td>\n",
       "    </tr>\n",
       "    <tr>\n",
       "      <th>2</th>\n",
       "      <td>0.760</td>\n",
       "      <td>2.3</td>\n",
       "      <td>0.092</td>\n",
       "      <td>15.0</td>\n",
       "      <td>54.0</td>\n",
       "      <td>3.26</td>\n",
       "      <td>0.65</td>\n",
       "      <td>9.8</td>\n",
       "      <td>5</td>\n",
       "      <td>2</td>\n",
       "    </tr>\n",
       "    <tr>\n",
       "      <th>3</th>\n",
       "      <td>0.280</td>\n",
       "      <td>1.9</td>\n",
       "      <td>0.075</td>\n",
       "      <td>17.0</td>\n",
       "      <td>60.0</td>\n",
       "      <td>3.16</td>\n",
       "      <td>0.58</td>\n",
       "      <td>9.8</td>\n",
       "      <td>6</td>\n",
       "      <td>3</td>\n",
       "    </tr>\n",
       "    <tr>\n",
       "      <th>4</th>\n",
       "      <td>0.700</td>\n",
       "      <td>1.9</td>\n",
       "      <td>0.076</td>\n",
       "      <td>11.0</td>\n",
       "      <td>34.0</td>\n",
       "      <td>3.51</td>\n",
       "      <td>0.56</td>\n",
       "      <td>9.4</td>\n",
       "      <td>5</td>\n",
       "      <td>4</td>\n",
       "    </tr>\n",
       "    <tr>\n",
       "      <th>...</th>\n",
       "      <td>...</td>\n",
       "      <td>...</td>\n",
       "      <td>...</td>\n",
       "      <td>...</td>\n",
       "      <td>...</td>\n",
       "      <td>...</td>\n",
       "      <td>...</td>\n",
       "      <td>...</td>\n",
       "      <td>...</td>\n",
       "      <td>...</td>\n",
       "    </tr>\n",
       "    <tr>\n",
       "      <th>1138</th>\n",
       "      <td>0.510</td>\n",
       "      <td>2.3</td>\n",
       "      <td>0.076</td>\n",
       "      <td>29.0</td>\n",
       "      <td>40.0</td>\n",
       "      <td>3.42</td>\n",
       "      <td>0.75</td>\n",
       "      <td>11.0</td>\n",
       "      <td>6</td>\n",
       "      <td>1592</td>\n",
       "    </tr>\n",
       "    <tr>\n",
       "      <th>1139</th>\n",
       "      <td>0.620</td>\n",
       "      <td>1.9</td>\n",
       "      <td>0.068</td>\n",
       "      <td>28.0</td>\n",
       "      <td>38.0</td>\n",
       "      <td>3.42</td>\n",
       "      <td>0.82</td>\n",
       "      <td>9.5</td>\n",
       "      <td>6</td>\n",
       "      <td>1593</td>\n",
       "    </tr>\n",
       "    <tr>\n",
       "      <th>1140</th>\n",
       "      <td>0.600</td>\n",
       "      <td>2.0</td>\n",
       "      <td>0.090</td>\n",
       "      <td>32.0</td>\n",
       "      <td>44.0</td>\n",
       "      <td>3.45</td>\n",
       "      <td>0.58</td>\n",
       "      <td>10.5</td>\n",
       "      <td>5</td>\n",
       "      <td>1594</td>\n",
       "    </tr>\n",
       "    <tr>\n",
       "      <th>1141</th>\n",
       "      <td>0.550</td>\n",
       "      <td>2.2</td>\n",
       "      <td>0.062</td>\n",
       "      <td>39.0</td>\n",
       "      <td>51.0</td>\n",
       "      <td>3.52</td>\n",
       "      <td>0.76</td>\n",
       "      <td>11.2</td>\n",
       "      <td>6</td>\n",
       "      <td>1595</td>\n",
       "    </tr>\n",
       "    <tr>\n",
       "      <th>1142</th>\n",
       "      <td>0.645</td>\n",
       "      <td>2.0</td>\n",
       "      <td>0.075</td>\n",
       "      <td>32.0</td>\n",
       "      <td>44.0</td>\n",
       "      <td>3.57</td>\n",
       "      <td>0.71</td>\n",
       "      <td>10.2</td>\n",
       "      <td>5</td>\n",
       "      <td>1597</td>\n",
       "    </tr>\n",
       "  </tbody>\n",
       "</table>\n",
       "<p>1143 rows × 10 columns</p>\n",
       "</div>"
      ],
      "text/plain": [
       "      volatile acidity  residual sugar  chlorides  free sulfur dioxide  \\\n",
       "0                0.700             1.9      0.076                 11.0   \n",
       "1                0.880             2.6      0.098                 25.0   \n",
       "2                0.760             2.3      0.092                 15.0   \n",
       "3                0.280             1.9      0.075                 17.0   \n",
       "4                0.700             1.9      0.076                 11.0   \n",
       "...                ...             ...        ...                  ...   \n",
       "1138             0.510             2.3      0.076                 29.0   \n",
       "1139             0.620             1.9      0.068                 28.0   \n",
       "1140             0.600             2.0      0.090                 32.0   \n",
       "1141             0.550             2.2      0.062                 39.0   \n",
       "1142             0.645             2.0      0.075                 32.0   \n",
       "\n",
       "      total sulfur dioxide    pH  sulphates  alcohol  quality    Id  \n",
       "0                     34.0  3.51       0.56      9.4        5     0  \n",
       "1                     67.0  3.20       0.68      9.8        5     1  \n",
       "2                     54.0  3.26       0.65      9.8        5     2  \n",
       "3                     60.0  3.16       0.58      9.8        6     3  \n",
       "4                     34.0  3.51       0.56      9.4        5     4  \n",
       "...                    ...   ...        ...      ...      ...   ...  \n",
       "1138                  40.0  3.42       0.75     11.0        6  1592  \n",
       "1139                  38.0  3.42       0.82      9.5        6  1593  \n",
       "1140                  44.0  3.45       0.58     10.5        5  1594  \n",
       "1141                  51.0  3.52       0.76     11.2        6  1595  \n",
       "1142                  44.0  3.57       0.71     10.2        5  1597  \n",
       "\n",
       "[1143 rows x 10 columns]"
      ]
     },
     "execution_count": 26,
     "metadata": {},
     "output_type": "execute_result"
    }
   ],
   "source": [
    "wine_df  = data.drop(['fixed acidity', 'citric acid', 'density'], axis = 1)\n",
    "wine_df"
   ]
  },
  {
   "cell_type": "markdown",
   "id": "2dea2ff5",
   "metadata": {},
   "source": [
    "##### Divide the data into X (features) and Y (target)"
   ]
  },
  {
   "cell_type": "code",
   "execution_count": 21,
   "id": "94a59f70",
   "metadata": {},
   "outputs": [],
   "source": [
    "import numpy as np\n",
    "features = np.array(wine_df.loc[:, wine_df.columns != 'quality'])\n",
    "target = np.array(wine_df['quality'])"
   ]
  },
  {
   "cell_type": "code",
   "execution_count": 67,
   "id": "2f41469d",
   "metadata": {},
   "outputs": [],
   "source": [
    "# split the data into training and testing set\n",
    "from sklearn.model_selection import train_test_split as tts\n",
    "feature_train, feature_test, target_train, target_test = tts(features, target, test_size=0.2, random_state=42)"
   ]
  },
  {
   "cell_type": "markdown",
   "id": "4995045b",
   "metadata": {},
   "source": [
    "##### Features data"
   ]
  },
  {
   "cell_type": "code",
   "execution_count": 68,
   "id": "a4170a00",
   "metadata": {},
   "outputs": [
    {
     "data": {
      "text/plain": [
       "(array([[2.800e-01, 1.800e+00, 9.200e-02, ..., 7.500e-01, 1.050e+01,\n",
       "         1.600e+01],\n",
       "        [3.200e-01, 2.000e+00, 7.300e-02, ..., 7.300e-01, 1.140e+01,\n",
       "         1.076e+03],\n",
       "        [3.100e-01, 2.600e+00, 5.600e-02, ..., 6.900e-01, 1.180e+01,\n",
       "         9.000e+02],\n",
       "        ...,\n",
       "        [3.500e-01, 2.400e+00, 6.800e-02, ..., 6.000e-01, 1.190e+01,\n",
       "         1.580e+03],\n",
       "        [5.700e-01, 2.000e+00, 7.900e-02, ..., 6.900e-01, 9.500e+00,\n",
       "         1.216e+03],\n",
       "        [5.200e-01, 2.200e+00, 6.000e-02, ..., 6.400e-01, 1.180e+01,\n",
       "         1.575e+03]]),\n",
       " array([[6.10000000e-01, 1.50000000e+00, 5.70000000e-02, ...,\n",
       "         6.00000000e-01, 9.50000000e+00, 2.22000000e+02],\n",
       "        [8.40000000e-01, 4.10000000e+00, 7.40000000e-02, ...,\n",
       "         7.20000000e-01, 9.23333333e+00, 1.51400000e+03],\n",
       "        [5.80000000e-01, 1.90000000e+00, 9.10000000e-02, ...,\n",
       "         4.80000000e-01, 1.05000000e+01, 4.17000000e+02],\n",
       "        ...,\n",
       "        [7.75000000e-01, 3.00000000e+00, 1.02000000e-01, ...,\n",
       "         5.60000000e-01, 1.07000000e+01, 9.60000000e+01],\n",
       "        [4.90000000e-01, 1.10000000e+01, 7.10000000e-02, ...,\n",
       "         6.90000000e-01, 9.20000000e+00, 3.25000000e+02],\n",
       "        [4.75000000e-01, 1.40000000e+00, 9.10000000e-02, ...,\n",
       "         6.50000000e-01, 1.00333333e+01, 1.35900000e+03]]))"
      ]
     },
     "execution_count": 68,
     "metadata": {},
     "output_type": "execute_result"
    }
   ],
   "source": [
    "feature_train,feature_test"
   ]
  },
  {
   "cell_type": "markdown",
   "id": "504009b7",
   "metadata": {},
   "source": [
    "###### Target data"
   ]
  },
  {
   "cell_type": "code",
   "execution_count": 69,
   "id": "daa899b0",
   "metadata": {},
   "outputs": [
    {
     "data": {
      "text/plain": [
       "(array([7, 6, 5, 5, 5, 6, 7, 5, 6, 5, 6, 8, 6, 6, 5, 5, 6, 5, 5, 5, 5, 6,\n",
       "        6, 6, 6, 5, 7, 7, 6, 5, 5, 6, 6, 7, 5, 5, 5, 5, 6, 5, 6, 6, 7, 5,\n",
       "        6, 5, 6, 6, 6, 5, 5, 5, 7, 5, 4, 6, 7, 5, 5, 7, 6, 6, 5, 7, 6, 6,\n",
       "        6, 7, 5, 6, 6, 5, 5, 6, 5, 4, 6, 7, 6, 6, 6, 6, 7, 6, 5, 5, 5, 6,\n",
       "        5, 5, 6, 6, 5, 5, 5, 5, 6, 7, 5, 6, 6, 6, 5, 5, 7, 5, 4, 8, 6, 5,\n",
       "        6, 6, 5, 6, 5, 5, 3, 6, 5, 5, 7, 5, 5, 6, 6, 7, 5, 6, 6, 7, 6, 6,\n",
       "        5, 7, 6, 6, 6, 7, 5, 6, 5, 5, 6, 5, 5, 5, 5, 8, 7, 6, 4, 5, 6, 7,\n",
       "        5, 6, 7, 6, 6, 5, 6, 5, 6, 5, 5, 6, 6, 5, 8, 6, 6, 5, 5, 4, 6, 5,\n",
       "        5, 6, 5, 5, 6, 7, 5, 6, 7, 7, 5, 6, 4, 4, 6, 5, 6, 7, 6, 6, 5, 6,\n",
       "        5, 6, 6, 5, 6, 5, 5, 7, 6, 5, 5, 5, 4, 6, 6, 6, 6, 6, 6, 7, 3, 5,\n",
       "        5, 5, 5, 5, 5, 5, 3, 5, 6, 6, 7, 5, 5, 6, 5, 7, 7, 6, 6, 6, 6, 4,\n",
       "        5, 5, 6, 5, 5, 6, 6, 5, 6, 5, 6, 7, 5, 7, 5, 5, 6, 6, 7, 6, 6, 6,\n",
       "        5, 5, 6, 6, 6, 7, 6, 6, 6, 7, 5, 5, 5, 5, 5, 7, 7, 6, 6, 5, 6, 5,\n",
       "        6, 8, 6, 5, 6, 5, 6, 6, 6, 6, 5, 6, 6, 5, 5, 5, 7, 5, 5, 6, 5, 5,\n",
       "        7, 5, 5, 6, 4, 4, 5, 6, 7, 6, 5, 6, 6, 5, 6, 6, 5, 5, 6, 6, 5, 5,\n",
       "        5, 6, 5, 6, 6, 6, 6, 4, 6, 5, 7, 5, 5, 5, 5, 5, 6, 5, 5, 5, 7, 5,\n",
       "        5, 6, 5, 5, 6, 6, 6, 7, 6, 6, 6, 5, 5, 6, 6, 5, 6, 6, 5, 5, 3, 6,\n",
       "        6, 5, 6, 7, 7, 5, 6, 6, 6, 5, 5, 5, 6, 4, 6, 5, 5, 7, 6, 6, 7, 6,\n",
       "        6, 6, 5, 5, 5, 5, 6, 6, 5, 5, 5, 5, 5, 4, 6, 5, 6, 5, 5, 6, 5, 5,\n",
       "        5, 7, 3, 5, 7, 6, 5, 5, 5, 5, 7, 8, 5, 7, 5, 8, 6, 6, 6, 5, 6, 5,\n",
       "        6, 5, 6, 4, 6, 6, 6, 5, 5, 6, 7, 6, 5, 8, 7, 5, 5, 5, 5, 6, 5, 5,\n",
       "        7, 6, 6, 5, 5, 5, 6, 5, 6, 5, 6, 4, 6, 6, 5, 7, 6, 6, 6, 5, 8, 6,\n",
       "        6, 5, 6, 4, 5, 6, 5, 5, 6, 5, 6, 5, 5, 7, 5, 6, 5, 6, 7, 5, 7, 4,\n",
       "        6, 6, 7, 4, 5, 5, 5, 6, 5, 5, 7, 4, 6, 5, 6, 5, 5, 5, 6, 6, 6, 6,\n",
       "        7, 6, 5, 5, 7, 6, 7, 6, 5, 7, 6, 5, 6, 6, 5, 5, 5, 5, 6, 8, 5, 5,\n",
       "        6, 5, 5, 6, 5, 5, 6, 5, 5, 6, 5, 6, 5, 5, 5, 6, 7, 5, 5, 6, 6, 6,\n",
       "        5, 5, 5, 5, 7, 5, 6, 5, 5, 6, 5, 5, 5, 6, 7, 5, 5, 7, 6, 7, 6, 6,\n",
       "        5, 7, 4, 6, 6, 6, 5, 5, 5, 5, 6, 5, 7, 6, 6, 6, 6, 7, 7, 7, 7, 5,\n",
       "        5, 5, 5, 5, 5, 6, 5, 4, 6, 8, 5, 6, 6, 7, 6, 5, 6, 6, 5, 5, 5, 7,\n",
       "        3, 5, 7, 5, 6, 5, 5, 7, 5, 5, 6, 6, 5, 5, 6, 7, 6, 7, 6, 5, 6, 6,\n",
       "        5, 5, 6, 6, 6, 5, 5, 5, 7, 5, 7, 5, 7, 6, 5, 5, 6, 6, 6, 6, 5, 5,\n",
       "        7, 6, 7, 6, 6, 6, 8, 6, 5, 5, 6, 5, 7, 6, 6, 7, 5, 5, 5, 6, 5, 5,\n",
       "        6, 5, 5, 6, 5, 7, 5, 5, 5, 5, 5, 5, 5, 6, 5, 6, 5, 5, 5, 5, 5, 5,\n",
       "        6, 6, 5, 6, 5, 5, 6, 6, 4, 6, 7, 6, 5, 7, 5, 6, 5, 7, 5, 6, 5, 7,\n",
       "        6, 6, 5, 6, 6, 7, 5, 7, 6, 5, 6, 7, 6, 5, 5, 6, 5, 6, 5, 6, 6, 7,\n",
       "        6, 5, 5, 5, 6, 7, 7, 5, 6, 6, 5, 5, 5, 7, 7, 5, 6, 5, 5, 6, 5, 6,\n",
       "        6, 7, 7, 6, 4, 5, 5, 6, 5, 7, 6, 4, 7, 6, 6, 6, 5, 6, 6, 6, 6, 7,\n",
       "        6, 5, 6, 6, 5, 6, 5, 5, 6, 7, 5, 5, 5, 5, 6, 6, 5, 5, 6, 7, 5, 5,\n",
       "        6, 5, 6, 5, 6, 5, 6, 6, 6, 5, 6, 6, 5, 5, 5, 6, 5, 6, 7, 6, 7, 5,\n",
       "        7, 6, 7, 5, 6, 5, 5, 5, 5, 5, 6, 6, 6, 6, 6, 6, 5, 6, 6, 6, 5, 6,\n",
       "        6, 5, 5, 5, 6, 4, 5, 6, 5, 6, 6, 7, 8, 7, 6, 7, 6, 6, 6, 6, 6, 8,\n",
       "        5, 5, 6, 5, 6, 5, 6, 4, 5, 6, 6, 6]),\n",
       " array([5, 6, 5, 6, 6, 8, 5, 5, 6, 5, 7, 6, 6, 6, 5, 6, 5, 5, 5, 6, 6, 6,\n",
       "        5, 7, 6, 5, 7, 6, 5, 6, 6, 6, 6, 5, 6, 5, 6, 7, 6, 5, 7, 5, 6, 5,\n",
       "        4, 5, 6, 6, 5, 6, 7, 5, 6, 7, 5, 7, 6, 4, 6, 5, 5, 6, 5, 6, 6, 6,\n",
       "        6, 5, 5, 5, 6, 5, 6, 6, 5, 5, 5, 5, 5, 6, 5, 6, 5, 6, 6, 6, 6, 5,\n",
       "        6, 6, 5, 5, 6, 5, 5, 5, 6, 7, 6, 6, 7, 6, 5, 6, 5, 5, 6, 7, 6, 7,\n",
       "        7, 5, 5, 5, 6, 5, 5, 8, 6, 5, 5, 5, 5, 6, 5, 6, 6, 6, 6, 6, 5, 5,\n",
       "        7, 6, 5, 5, 5, 6, 5, 6, 7, 6, 6, 5, 7, 5, 5, 5, 5, 5, 7, 6, 6, 5,\n",
       "        6, 6, 5, 5, 7, 5, 5, 5, 6, 5, 7, 5, 6, 4, 6, 5, 6, 5, 5, 6, 5, 5,\n",
       "        7, 5, 6, 6, 6, 5, 6, 6, 5, 4, 6, 5, 6, 4, 6, 6, 7, 6, 5, 6, 5, 7,\n",
       "        7, 6, 6, 6, 5, 5, 7, 7, 5, 5, 6, 6, 5, 6, 6, 6, 5, 6, 7, 5, 6, 6,\n",
       "        6, 5, 5, 5, 4, 6, 5, 6, 6]))"
      ]
     },
     "execution_count": 69,
     "metadata": {},
     "output_type": "execute_result"
    }
   ],
   "source": [
    "target_train, target_test"
   ]
  },
  {
   "cell_type": "markdown",
   "id": "9e5a53fb",
   "metadata": {},
   "source": [
    "### Model"
   ]
  },
  {
   "cell_type": "code",
   "execution_count": 70,
   "id": "4acf0db7",
   "metadata": {},
   "outputs": [],
   "source": [
    "from sklearn.linear_model import LinearRegression\n",
    "reg_model = LinearRegression()"
   ]
  },
  {
   "cell_type": "code",
   "execution_count": 71,
   "id": "08f63145",
   "metadata": {},
   "outputs": [
    {
     "data": {
      "text/html": [
       "<style>#sk-container-id-4 {color: black;}#sk-container-id-4 pre{padding: 0;}#sk-container-id-4 div.sk-toggleable {background-color: white;}#sk-container-id-4 label.sk-toggleable__label {cursor: pointer;display: block;width: 100%;margin-bottom: 0;padding: 0.3em;box-sizing: border-box;text-align: center;}#sk-container-id-4 label.sk-toggleable__label-arrow:before {content: \"▸\";float: left;margin-right: 0.25em;color: #696969;}#sk-container-id-4 label.sk-toggleable__label-arrow:hover:before {color: black;}#sk-container-id-4 div.sk-estimator:hover label.sk-toggleable__label-arrow:before {color: black;}#sk-container-id-4 div.sk-toggleable__content {max-height: 0;max-width: 0;overflow: hidden;text-align: left;background-color: #f0f8ff;}#sk-container-id-4 div.sk-toggleable__content pre {margin: 0.2em;color: black;border-radius: 0.25em;background-color: #f0f8ff;}#sk-container-id-4 input.sk-toggleable__control:checked~div.sk-toggleable__content {max-height: 200px;max-width: 100%;overflow: auto;}#sk-container-id-4 input.sk-toggleable__control:checked~label.sk-toggleable__label-arrow:before {content: \"▾\";}#sk-container-id-4 div.sk-estimator input.sk-toggleable__control:checked~label.sk-toggleable__label {background-color: #d4ebff;}#sk-container-id-4 div.sk-label input.sk-toggleable__control:checked~label.sk-toggleable__label {background-color: #d4ebff;}#sk-container-id-4 input.sk-hidden--visually {border: 0;clip: rect(1px 1px 1px 1px);clip: rect(1px, 1px, 1px, 1px);height: 1px;margin: -1px;overflow: hidden;padding: 0;position: absolute;width: 1px;}#sk-container-id-4 div.sk-estimator {font-family: monospace;background-color: #f0f8ff;border: 1px dotted black;border-radius: 0.25em;box-sizing: border-box;margin-bottom: 0.5em;}#sk-container-id-4 div.sk-estimator:hover {background-color: #d4ebff;}#sk-container-id-4 div.sk-parallel-item::after {content: \"\";width: 100%;border-bottom: 1px solid gray;flex-grow: 1;}#sk-container-id-4 div.sk-label:hover label.sk-toggleable__label {background-color: #d4ebff;}#sk-container-id-4 div.sk-serial::before {content: \"\";position: absolute;border-left: 1px solid gray;box-sizing: border-box;top: 0;bottom: 0;left: 50%;z-index: 0;}#sk-container-id-4 div.sk-serial {display: flex;flex-direction: column;align-items: center;background-color: white;padding-right: 0.2em;padding-left: 0.2em;position: relative;}#sk-container-id-4 div.sk-item {position: relative;z-index: 1;}#sk-container-id-4 div.sk-parallel {display: flex;align-items: stretch;justify-content: center;background-color: white;position: relative;}#sk-container-id-4 div.sk-item::before, #sk-container-id-4 div.sk-parallel-item::before {content: \"\";position: absolute;border-left: 1px solid gray;box-sizing: border-box;top: 0;bottom: 0;left: 50%;z-index: -1;}#sk-container-id-4 div.sk-parallel-item {display: flex;flex-direction: column;z-index: 1;position: relative;background-color: white;}#sk-container-id-4 div.sk-parallel-item:first-child::after {align-self: flex-end;width: 50%;}#sk-container-id-4 div.sk-parallel-item:last-child::after {align-self: flex-start;width: 50%;}#sk-container-id-4 div.sk-parallel-item:only-child::after {width: 0;}#sk-container-id-4 div.sk-dashed-wrapped {border: 1px dashed gray;margin: 0 0.4em 0.5em 0.4em;box-sizing: border-box;padding-bottom: 0.4em;background-color: white;}#sk-container-id-4 div.sk-label label {font-family: monospace;font-weight: bold;display: inline-block;line-height: 1.2em;}#sk-container-id-4 div.sk-label-container {text-align: center;}#sk-container-id-4 div.sk-container {/* jupyter's `normalize.less` sets `[hidden] { display: none; }` but bootstrap.min.css set `[hidden] { display: none !important; }` so we also need the `!important` here to be able to override the default hidden behavior on the sphinx rendered scikit-learn.org. See: https://github.com/scikit-learn/scikit-learn/issues/21755 */display: inline-block !important;position: relative;}#sk-container-id-4 div.sk-text-repr-fallback {display: none;}</style><div id=\"sk-container-id-4\" class=\"sk-top-container\"><div class=\"sk-text-repr-fallback\"><pre>LinearRegression()</pre><b>In a Jupyter environment, please rerun this cell to show the HTML representation or trust the notebook. <br />On GitHub, the HTML representation is unable to render, please try loading this page with nbviewer.org.</b></div><div class=\"sk-container\" hidden><div class=\"sk-item\"><div class=\"sk-estimator sk-toggleable\"><input class=\"sk-toggleable__control sk-hidden--visually\" id=\"sk-estimator-id-4\" type=\"checkbox\" checked><label for=\"sk-estimator-id-4\" class=\"sk-toggleable__label sk-toggleable__label-arrow\">LinearRegression</label><div class=\"sk-toggleable__content\"><pre>LinearRegression()</pre></div></div></div></div></div>"
      ],
      "text/plain": [
       "LinearRegression()"
      ]
     },
     "execution_count": 71,
     "metadata": {},
     "output_type": "execute_result"
    }
   ],
   "source": [
    "reg_model.fit(feature_train, target_train)"
   ]
  },
  {
   "cell_type": "code",
   "execution_count": 72,
   "id": "67c9a11b",
   "metadata": {},
   "outputs": [
    {
     "data": {
      "text/plain": [
       "array([-1.20852123e+00, -1.21266757e-02, -2.15706919e+00,  3.69729516e-03,\n",
       "       -3.01563077e-03, -3.91367095e-01,  8.89247896e-01,  2.92819706e-01,\n",
       "       -7.02747557e-05])"
      ]
     },
     "execution_count": 72,
     "metadata": {},
     "output_type": "execute_result"
    }
   ],
   "source": [
    "# Coefficients\n",
    "reg_model.coef_"
   ]
  },
  {
   "cell_type": "code",
   "execution_count": 73,
   "id": "41154ef7",
   "metadata": {},
   "outputs": [
    {
     "data": {
      "text/plain": [
       "4.31001023440868"
      ]
     },
     "execution_count": 73,
     "metadata": {},
     "output_type": "execute_result"
    }
   ],
   "source": [
    "# Intercept\n",
    "reg_model.intercept_"
   ]
  },
  {
   "cell_type": "markdown",
   "id": "2232e9c4",
   "metadata": {},
   "source": [
    "### Prediction"
   ]
  },
  {
   "cell_type": "code",
   "execution_count": 74,
   "id": "9a68a414",
   "metadata": {},
   "outputs": [
    {
     "data": {
      "text/plain": [
       "array([5., 5., 5., 5., 6., 7., 5., 5., 6., 5., 6., 6., 5., 6., 6., 5., 6.,\n",
       "       6., 5., 6., 6., 6., 5., 7., 6., 5., 7., 6., 5., 6., 6., 6., 7., 6.,\n",
       "       6., 5., 6., 6., 7., 7., 6., 5., 7., 5., 5., 5., 6., 6., 5., 6., 6.,\n",
       "       5., 6., 6., 6., 6., 6., 6., 6., 5., 6., 6., 6., 6., 6., 5., 7., 5.,\n",
       "       5., 6., 6., 5., 6., 6., 5., 5., 6., 6., 6., 5., 5., 6., 6., 5., 5.,\n",
       "       6., 5., 6., 6., 5., 5., 6., 5., 5., 5., 5., 5., 7., 6., 6., 6., 6.,\n",
       "       5., 6., 5., 5., 6., 6., 6., 7., 6., 5., 6., 6., 5., 5., 5., 7., 6.,\n",
       "       5., 5., 5., 6., 7., 5., 6., 6., 6., 5., 6., 5., 5., 6., 6., 7., 5.,\n",
       "       4., 6., 6., 6., 7., 5., 6., 5., 6., 5., 5., 5., 5., 5., 7., 5., 6.,\n",
       "       5., 6., 6., 5., 6., 6., 6., 6., 5., 6., 6., 6., 5., 6., 6., 6., 5.,\n",
       "       6., 5., 5., 6., 5., 5., 6., 6., 6., 5., 6., 6., 6., 5., 5., 6., 6.,\n",
       "       5., 6., 6., 6., 6., 7., 6., 6., 5., 5., 7., 7., 6., 6., 6., 5., 6.,\n",
       "       6., 6., 5., 5., 6., 6., 5., 6., 6., 6., 6., 5., 7., 5., 6., 6., 6.,\n",
       "       5., 5., 6., 5., 6., 5., 5., 6.])"
      ]
     },
     "execution_count": 74,
     "metadata": {},
     "output_type": "execute_result"
    }
   ],
   "source": [
    "quality_predict = reg_model.predict(feature_test)\n",
    "quality_predict = np.round(quality_predict)\n",
    "quality_predict"
   ]
  },
  {
   "cell_type": "code",
   "execution_count": 75,
   "id": "2ddc4e7f",
   "metadata": {},
   "outputs": [
    {
     "data": {
      "text/plain": [
       "64.62882096069869"
      ]
     },
     "execution_count": 75,
     "metadata": {},
     "output_type": "execute_result"
    }
   ],
   "source": [
    "sum = 0\n",
    "for i,n in enumerate(target_test):\n",
    "    if n == quality_predict[i]:\n",
    "        sum += 1\n",
    "accuracy = (sum/len(target_test))*100\n",
    "accuracy"
   ]
  },
  {
   "cell_type": "code",
   "execution_count": null,
   "id": "080ab6e6",
   "metadata": {},
   "outputs": [],
   "source": []
  }
 ],
 "metadata": {
  "kernelspec": {
   "display_name": "Python 3 (ipykernel)",
   "language": "python",
   "name": "python3"
  },
  "language_info": {
   "codemirror_mode": {
    "name": "ipython",
    "version": 3
   },
   "file_extension": ".py",
   "mimetype": "text/x-python",
   "name": "python",
   "nbconvert_exporter": "python",
   "pygments_lexer": "ipython3",
   "version": "3.10.12"
  }
 },
 "nbformat": 4,
 "nbformat_minor": 5
}
